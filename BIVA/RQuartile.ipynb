{
 "cells": [
  {
   "cell_type": "code",
   "execution_count": 37,
   "metadata": {},
   "outputs": [],
   "source": [
    "library(ICSNP)\n",
    "X <- read.csv(file = \"Quartile数据/白蛋白-男-Classic-min.csv\",header=FALSE)\n",
    "Y <- read.csv(file = \"Quartile数据/白蛋白-男-Classic-max.csv\",header=FALSE)\n",
    "T2=HotellingsT2(X, Y)\n",
    "data_path=\"Quartile数据/\"\n",
    "HT2<-function(COMP,SEX,typ){\n",
    "    file=paste(COMP,SEX,typ,sep = \"-\")\n",
    "    X <- read.csv(file = paste(data_path,file,\"-max\",\".csv\",sep = \"\"),header=FALSE)\n",
    "    Y <- read.csv(file = paste(data_path,file,\"-min\",\".csv\",sep = \"\"),header=FALSE)\n",
    "    T2 <- HotellingsT2(X, Y)\n",
    "    return(c(T2[['statistic']],T2[['p.value']]))\n",
    "}"
   ]
  },
  {
   "cell_type": "code",
   "execution_count": 49,
   "metadata": {},
   "outputs": [
    {
     "name": "stdout",
     "output_type": "stream",
     "text": [
      "[1] \"出现错误\"\n",
      "[1] \"出现错误\"\n",
      "[1] \"出现错误\"\n",
      "[1] \"出现错误\"\n",
      "[1] \"出现错误\"\n",
      "[1] \"出现错误\"\n",
      "[1] \"{\\\"尿素-男-Classic\\\":[6.11876506321026,0.00575788055361059],\\\"尿素-男-Specific\\\":[6.99533292741836,0.0031096301148914],\\\"尿素-女-Classic\\\":[2.41390751184818,0.119461669880657],\\\"尿素-女-Specific\\\":[2.24769259890866,0.13610728122822],\\\"钙-男-Classic\\\":[7.22227756610799,0.00266156747532453],\\\"钙-男-Specific\\\":[6.9099964296171,0.00329832630067606],\\\"钙-女-Classic\\\":[0.820032081154761,0.457101773972183],\\\"钙-女-Specific\\\":[0.408844476128481,0.670778540949915],\\\"肌酐-男-Classic\\\":[19.3256985482174,2.78146160814785e-06],\\\"肌酐-男-Specific\\\":[17.0688969345243,8.13810733202303e-06],\\\"肌酐-女-Classic\\\":[13.7806639532486,0.000277122492581494],\\\"肌酐-女-Specific\\\":[13.6845828186585,0.000287491564149311],\\\"白蛋白-男-Classic\\\":[12.2376833263043,0.000164747282000999],\\\"白蛋白-男-Specific\\\":[12.7596296991293,0.00012563475793792],\\\"白蛋白-女-Classic\\\":[4.1627456729324,0.040067107337268],\\\"白蛋白-女-Specific\\\":[0.62043912543385,0.552895126551895],\\\"总胆固醇-男-Classic\\\":[0.0101316651358936,0.989930761082061],\\\"总胆固醇-男-Specific\\\":[0.70738103923081,0.518405026158807],\\\"低密度脂蛋白胆固醇-男-Classic\\\":[0.162080899378858,0.852799992134401],\\\"低密度脂蛋白胆固醇-男-Specific\\\":[0.367942784130147,0.702104439598609],\\\"磷-男-Classic\\\":[1.38947908751256,0.267793902940044],\\\"磷-男-Specific\\\":[1.9358353968164,0.165329801722313],\\\"磷-女-Classic\\\":[5.20031743314052,0.0219104919761365],\\\"磷-女-Specific\\\":[3.74430661866298,0.0519756730197186],\\\"血红蛋白-男-Classic\\\":[6.12949680270761,0.00800307720717974],\\\"血红蛋白-男-Specific\\\":[12.2747284213158,0.000294597439431721],\\\"血红蛋白-女-Classic\\\":[6.91143689597339,0.00902292401509341],\\\"血红蛋白-女-Specific\\\":[6.01004446477211,0.0141825483106934],\\\"N端-B型钠尿肽前体-男-Classic\\\":[0.674204498428447,0.55050689743202],\\\"N端-B型钠尿肽前体-男-Specific\\\":[0.00387085598074673,0.996139608179617],\\\"N端-B型钠尿肽前体-女-Classic\\\":[0.308946528626132,0.786185617065729],\\\"N端-B型钠尿肽前体-女-Specific\\\":[0.299571287385269,0.790781329643864],\\\"甲状旁腺素-男-Classic\\\":[7.31348292128789,0.00954608337520457],\\\"甲状旁腺素-男-Specific\\\":[5.2915302890482,0.0245492430186536],\\\"甲状旁腺素-女-Classic\\\":[8.66580868313099,0.0566792363544035],\\\"甲状旁腺素-女-Specific\\\":[4.77348948846132,0.116915778714239]}\"\n"
     ]
    }
   ],
   "source": [
    "COMPs<-read.csv(file = paste(data_path,'names.csv',sep = \"\"),header=FALSE)\n",
    "results=\"\"\n",
    "for(COMP in COMPs[[1]]){\n",
    "    for(SEX in c(\"男\",\"女\")){\n",
    "        for(typ in c(\"Classic\",\"Specific\")){\n",
    "            tryCatch({\n",
    "                T2<-HT2(COMP,SEX,typ)\n",
    "                if(!is.na(T2[[1]])&&!is.na(T2[[1]])){\n",
    "                    key=paste(COMP,SEX,typ,sep = \"-\")\n",
    "                    value=paste(\"[\",T2[[1]],\",\",T2[[2]],\"]\",sep = \"\")\n",
    "                    results=paste(results,\"\\\"\",key,\"\\\"\",\":\",value,\",\",sep = \"\")\n",
    "                }\n",
    "            },error=function(e){print(\"出现错误\")})\n",
    "        }\n",
    "    }\n",
    "}\n",
    "results<-paste(\"{\",substring(results,0,nchar(results)-1),\"}\",sep = \"\")\n",
    "c <- file( \"结果/Quartile结果.json\", \"w\",encoding = 'UTF-8')\n",
    "writeLines(results,c)\n",
    "close(c)\n",
    "print(results)"
   ]
  },
  {
   "cell_type": "code",
   "execution_count": 46,
   "metadata": {},
   "outputs": [
    {
     "data": {
      "text/html": [
       "'UTF-8'"
      ],
      "text/latex": [
       "'UTF-8'"
      ],
      "text/markdown": [
       "'UTF-8'"
      ],
      "text/plain": [
       "[1] \"UTF-8\""
      ]
     },
     "metadata": {},
     "output_type": "display_data"
    }
   ],
   "source": [
    "Encoding(results)"
   ]
  },
  {
   "cell_type": "code",
   "execution_count": null,
   "metadata": {},
   "outputs": [],
   "source": []
  }
 ],
 "metadata": {
  "kernelspec": {
   "display_name": "R",
   "language": "R",
   "name": "ir"
  },
  "language_info": {
   "codemirror_mode": "r",
   "file_extension": ".r",
   "mimetype": "text/x-r-source",
   "name": "R",
   "pygments_lexer": "r",
   "version": "3.4.3"
  }
 },
 "nbformat": 4,
 "nbformat_minor": 2
}
